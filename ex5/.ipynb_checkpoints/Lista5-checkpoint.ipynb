{
 "cells": [
  {
   "cell_type": "code",
   "execution_count": 1,
   "metadata": {},
   "outputs": [],
   "source": [
    "from pyspark import SparkConf\n",
    "from pyspark.context import SparkContext\n",
    "from pyspark.sql.session import SparkSession\n",
    "from graphframes import *\n",
    "# spark session and context setup\n",
    "conf = SparkConf().setAppName('appName').setMaster('local')\n",
    "sc = SparkContext.getOrCreate(conf)\n",
    "spark = SparkSession(sc)\n",
    "# graphframes basic example\n",
    "nodes = spark.read.csv('cidades.csv', header=True)\n",
    "rels = spark.read.csv('relations.csv', header=True)\n",
    "g = GraphFrame(nodes, rels)"
   ]
  },
  {
   "cell_type": "code",
   "execution_count": 2,
   "metadata": {},
   "outputs": [
    {
     "name": "stdout",
     "output_type": "stream",
     "text": [
      "+--------------------+---------+----------+---------+\n",
      "|                  id| latitude| longitude|populacao|\n",
      "+--------------------+---------+----------+---------+\n",
      "|              Recife|-8.053889|-34.880833| 1645727 |\n",
      "|              Olinda|-8.008889|   -34.855|   390771|\n",
      "|             Caruaru|-8.282778|-35.975833|   361118|\n",
      "|Santa Cruz do Cap...|-7.956944|   -36.205|   107937|\n",
      "|           Petrolina|-9.392778|-40.507778|   349145|\n",
      "|           Pesqueira|-8.361667|-36.694722|    66881|\n",
      "+--------------------+---------+----------+---------+\n",
      "\n"
     ]
    }
   ],
   "source": [
    "g.vertices.show()"
   ]
  },
  {
   "cell_type": "code",
   "execution_count": 3,
   "metadata": {},
   "outputs": [
    {
     "name": "stdout",
     "output_type": "stream",
     "text": [
      "+--------------------+--------------------+------------------+\n",
      "|                 src|                 dst|      relationship|\n",
      "+--------------------+--------------------+------------------+\n",
      "|              Recife|              Olinda| 5.757491906294353|\n",
      "|              Recife|             Caruaru|123.21975279682546|\n",
      "|              Recife|Santa Cruz do Cap...|146.24953979065546|\n",
      "|              Recife|           Petrolina| 636.2964802826075|\n",
      "|              Recife|           Pesqueira|202.60471438298742|\n",
      "|              Olinda|              Recife| 5.757491906294353|\n",
      "|              Olinda|             Caruaru|127.11660109042127|\n",
      "|              Olinda|Santa Cruz do Cap...|148.81728268257336|\n",
      "|              Olinda|           Petrolina| 640.2782234019045|\n",
      "|              Olinda|           Pesqueira|206.31276007928233|\n",
      "|             Caruaru|              Recife|123.21975279682546|\n",
      "|             Caruaru|              Olinda|127.11660109042127|\n",
      "|             Caruaru|Santa Cruz do Cap...|44.162227354618366|\n",
      "|             Caruaru|           Petrolina| 513.1651395830875|\n",
      "|             Caruaru|           Pesqueira| 79.60496449411382|\n",
      "|Santa Cruz do Cap...|              Recife|146.24953979065546|\n",
      "|Santa Cruz do Cap...|              Olinda|148.81728268257336|\n",
      "|Santa Cruz do Cap...|             Caruaru|44.162227354618366|\n",
      "|Santa Cruz do Cap...|           Petrolina| 499.3357584267285|\n",
      "|Santa Cruz do Cap...|           Pesqueira| 70.24200856618216|\n",
      "+--------------------+--------------------+------------------+\n",
      "only showing top 20 rows\n",
      "\n"
     ]
    }
   ],
   "source": [
    "g.edges.show()"
   ]
  },
  {
   "cell_type": "code",
   "execution_count": 4,
   "metadata": {},
   "outputs": [
    {
     "name": "stdout",
     "output_type": "stream",
     "text": [
      "+--------------------+--------------------+--------------------+\n",
      "|                from|                  e0|                  to|\n",
      "+--------------------+--------------------+--------------------+\n",
      "|[Recife, -8.05388...|[Recife, Caruaru,...|[Caruaru, -8.2827...|\n",
      "|[Recife, -8.05388...|[Recife, Santa Cr...|[Santa Cruz do Ca...|\n",
      "|[Recife, -8.05388...|[Recife, Petrolin...|[Petrolina, -9.39...|\n",
      "|[Recife, -8.05388...|[Recife, Pesqueir...|[Pesqueira, -8.36...|\n",
      "+--------------------+--------------------+--------------------+\n",
      "\n"
     ]
    }
   ],
   "source": [
    "far_from_capital_cities = g.bfs(\"id = 'Recife'\", \"id !=  'Recife'\", edgeFilter=\"relationship > 100\")\n",
    "far_from_capital_cities.show()"
   ]
  },
  {
   "cell_type": "code",
   "execution_count": 5,
   "metadata": {},
   "outputs": [
    {
     "name": "stdout",
     "output_type": "stream",
     "text": [
      "+--------------------+--------------------+--------------------+\n",
      "|                from|                  e0|                  to|\n",
      "+--------------------+--------------------+--------------------+\n",
      "|[Recife, -8.05388...|[Recife, Petrolin...|[Petrolina, -9.39...|\n",
      "+--------------------+--------------------+--------------------+\n",
      "\n"
     ]
    }
   ],
   "source": [
    "really_far_from_capital_cities = g.bfs(\"id = 'Recife'\", \"id !=  'Recife'\", edgeFilter=\"relationship > 400\")\n",
    "really_far_from_capital_cities.show()"
   ]
  },
  {
   "cell_type": "code",
   "execution_count": 10,
   "metadata": {},
   "outputs": [
    {
     "name": "stdout",
     "output_type": "stream",
     "text": [
      "+--------------------+--------------------+--------------------+\n",
      "|                from|                  e0|                  to|\n",
      "+--------------------+--------------------+--------------------+\n",
      "|[Recife, -8.05388...|[Recife, Pesqueir...|[Pesqueira, -8.36...|\n",
      "+--------------------+--------------------+--------------------+\n",
      "\n"
     ]
    }
   ],
   "source": [
    "travel_to_low_populated_cities = g.bfs(\"id = 'Recife'\", \"populacao < 100000\")\n",
    "travel_to_low_populated_cities.show()"
   ]
  },
  {
   "cell_type": "code",
   "execution_count": 12,
   "metadata": {},
   "outputs": [
    {
     "name": "stdout",
     "output_type": "stream",
     "text": [
      "+--------------------+--------------------+--------------------+\n",
      "|                from|                  e0|                  to|\n",
      "+--------------------+--------------------+--------------------+\n",
      "|[Recife, -8.05388...|[Recife, Santa Cr...|[Santa Cruz do Ca...|\n",
      "|[Recife, -8.05388...|[Recife, Petrolin...|[Petrolina, -9.39...|\n",
      "+--------------------+--------------------+--------------------+\n",
      "\n"
     ]
    }
   ],
   "source": [
    "travel_to_medium_populated_cities = g.bfs(\"id = 'Recife'\", \"populacao < 350000 and populacao > 100000\")\n",
    "travel_to_medium_populated_cities.show()"
   ]
  },
  {
   "cell_type": "code",
   "execution_count": 13,
   "metadata": {},
   "outputs": [
    {
     "name": "stdout",
     "output_type": "stream",
     "text": [
      "+--------------------+--------------------+--------------------+\n",
      "|                from|                  e0|                  to|\n",
      "+--------------------+--------------------+--------------------+\n",
      "|[Recife, -8.05388...|[Recife, Olinda, ...|[Olinda, -8.00888...|\n",
      "|[Recife, -8.05388...|[Recife, Caruaru,...|[Caruaru, -8.2827...|\n",
      "+--------------------+--------------------+--------------------+\n",
      "\n"
     ]
    }
   ],
   "source": [
    "travel_to_high_populated_cities = g.bfs(\"id = 'Recife'\", \"populacao > 350000\")\n",
    "travel_to_high_populated_cities.show()"
   ]
  },
  {
   "cell_type": "code",
   "execution_count": 18,
   "metadata": {},
   "outputs": [
    {
     "name": "stdout",
     "output_type": "stream",
     "text": [
      "+--------------------+--------------------+--------------------+\n",
      "|                   a|                  ab|                   b|\n",
      "+--------------------+--------------------+--------------------+\n",
      "|[Olinda, -8.00888...|[Olinda, Recife, ...|[Recife, -8.05388...|\n",
      "|[Olinda, -8.00888...|[Olinda, Caruaru,...|[Caruaru, -8.2827...|\n",
      "|[Olinda, -8.00888...|[Olinda, Santa Cr...|[Santa Cruz do Ca...|\n",
      "|[Olinda, -8.00888...|[Olinda, Petrolin...|[Petrolina, -9.39...|\n",
      "|[Olinda, -8.00888...|[Olinda, Pesqueir...|[Pesqueira, -8.36...|\n",
      "|[Caruaru, -8.2827...|[Caruaru, Recife,...|[Recife, -8.05388...|\n",
      "|[Caruaru, -8.2827...|[Caruaru, Olinda,...|[Olinda, -8.00888...|\n",
      "|[Caruaru, -8.2827...|[Caruaru, Santa C...|[Santa Cruz do Ca...|\n",
      "|[Caruaru, -8.2827...|[Caruaru, Petroli...|[Petrolina, -9.39...|\n",
      "|[Caruaru, -8.2827...|[Caruaru, Pesquei...|[Pesqueira, -8.36...|\n",
      "|[Petrolina, -9.39...|[Petrolina, Recif...|[Recife, -8.05388...|\n",
      "|[Petrolina, -9.39...|[Petrolina, Olind...|[Olinda, -8.00888...|\n",
      "|[Petrolina, -9.39...|[Petrolina, Carua...|[Caruaru, -8.2827...|\n",
      "|[Petrolina, -9.39...|[Petrolina, Santa...|[Santa Cruz do Ca...|\n",
      "|[Petrolina, -9.39...|[Petrolina, Pesqu...|[Pesqueira, -8.36...|\n",
      "+--------------------+--------------------+--------------------+\n",
      "\n"
     ]
    }
   ],
   "source": [
    "find_path = g.find(\"(a)-[ab]->(b)\")\n",
    "find_path.filter(\"a.populacao > 300000\").show()"
   ]
  },
  {
   "cell_type": "code",
   "execution_count": 35,
   "metadata": {},
   "outputs": [
    {
     "name": "stdout",
     "output_type": "stream",
     "text": [
      "+--------------------+--------------------+--------------------+--------------------+--------------------+\n",
      "|                   a|                  ab|                   b|                  bc|                   c|\n",
      "+--------------------+--------------------+--------------------+--------------------+--------------------+\n",
      "|[Recife, -8.05388...|[Recife, Olinda, ...|[Olinda, -8.00888...|[Olinda, Pesqueir...|[Pesqueira, -8.36...|\n",
      "|[Recife, -8.05388...|[Recife, Olinda, ...|[Olinda, -8.00888...|[Olinda, Petrolin...|[Petrolina, -9.39...|\n",
      "|[Recife, -8.05388...|[Recife, Olinda, ...|[Olinda, -8.00888...|[Olinda, Santa Cr...|[Santa Cruz do Ca...|\n",
      "|[Caruaru, -8.2827...|[Caruaru, Olinda,...|[Olinda, -8.00888...|[Olinda, Pesqueir...|[Pesqueira, -8.36...|\n",
      "|[Caruaru, -8.2827...|[Caruaru, Olinda,...|[Olinda, -8.00888...|[Olinda, Petrolin...|[Petrolina, -9.39...|\n",
      "|[Caruaru, -8.2827...|[Caruaru, Olinda,...|[Olinda, -8.00888...|[Olinda, Santa Cr...|[Santa Cruz do Ca...|\n",
      "|[Santa Cruz do Ca...|[Santa Cruz do Ca...|[Olinda, -8.00888...|[Olinda, Pesqueir...|[Pesqueira, -8.36...|\n",
      "|[Santa Cruz do Ca...|[Santa Cruz do Ca...|[Olinda, -8.00888...|[Olinda, Petrolin...|[Petrolina, -9.39...|\n",
      "|[Santa Cruz do Ca...|[Santa Cruz do Ca...|[Olinda, -8.00888...|[Olinda, Santa Cr...|[Santa Cruz do Ca...|\n",
      "|[Petrolina, -9.39...|[Petrolina, Olind...|[Olinda, -8.00888...|[Olinda, Pesqueir...|[Pesqueira, -8.36...|\n",
      "|[Petrolina, -9.39...|[Petrolina, Olind...|[Olinda, -8.00888...|[Olinda, Petrolin...|[Petrolina, -9.39...|\n",
      "|[Petrolina, -9.39...|[Petrolina, Olind...|[Olinda, -8.00888...|[Olinda, Santa Cr...|[Santa Cruz do Ca...|\n",
      "|[Pesqueira, -8.36...|[Pesqueira, Olind...|[Olinda, -8.00888...|[Olinda, Pesqueir...|[Pesqueira, -8.36...|\n",
      "|[Pesqueira, -8.36...|[Pesqueira, Olind...|[Olinda, -8.00888...|[Olinda, Petrolin...|[Petrolina, -9.39...|\n",
      "|[Pesqueira, -8.36...|[Pesqueira, Olind...|[Olinda, -8.00888...|[Olinda, Santa Cr...|[Santa Cruz do Ca...|\n",
      "+--------------------+--------------------+--------------------+--------------------+--------------------+\n",
      "\n"
     ]
    }
   ],
   "source": [
    "find_path = g.find(\"(a)-[ab]->(b); (b)-[bc]->(c)\")\n",
    "find_path.filter(\"b.populacao > 350000 and b.populacao > 390000 and c.populacao < 350000\").show()"
   ]
  },
  {
   "cell_type": "code",
   "execution_count": 38,
   "metadata": {},
   "outputs": [
    {
     "name": "stdout",
     "output_type": "stream",
     "text": [
      "+---------+---------+----------+---------+\n",
      "|       id| latitude| longitude|populacao|\n",
      "+---------+---------+----------+---------+\n",
      "|   Olinda|-8.008889|   -34.855|   390771|\n",
      "|  Caruaru|-8.282778|-35.975833|   361118|\n",
      "|Petrolina|-9.392778|-40.507778|   349145|\n",
      "+---------+---------+----------+---------+\n",
      "\n"
     ]
    }
   ],
   "source": [
    "big_cities = g.filterVertices(\"populacao > 300000\")\n",
    "big_cities.vertices.show()"
   ]
  },
  {
   "cell_type": "code",
   "execution_count": 40,
   "metadata": {},
   "outputs": [
    {
     "name": "stdout",
     "output_type": "stream",
     "text": [
      "+--------------------+---------+----------+---------+\n",
      "|                  id| latitude| longitude|populacao|\n",
      "+--------------------+---------+----------+---------+\n",
      "|Santa Cruz do Cap...|-7.956944|   -36.205|   107937|\n",
      "|           Pesqueira|-8.361667|-36.694722|    66881|\n",
      "+--------------------+---------+----------+---------+\n",
      "\n"
     ]
    }
   ],
   "source": [
    "little_cities = g.filterVertices(\"populacao < 300000\")\n",
    "little_cities.vertices.show()"
   ]
  },
  {
   "cell_type": "code",
   "execution_count": null,
   "metadata": {},
   "outputs": [],
   "source": []
  }
 ],
 "metadata": {
  "kernelspec": {
   "display_name": "Python 3",
   "language": "python",
   "name": "python3"
  },
  "language_info": {
   "codemirror_mode": {
    "name": "ipython",
    "version": 3
   },
   "file_extension": ".py",
   "mimetype": "text/x-python",
   "name": "python",
   "nbconvert_exporter": "python",
   "pygments_lexer": "ipython3",
   "version": "3.7.6"
  }
 },
 "nbformat": 4,
 "nbformat_minor": 4
}
